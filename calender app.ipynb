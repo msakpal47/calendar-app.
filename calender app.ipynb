{
 "cells": [
  {
   "cell_type": "code",
   "execution_count": null,
   "id": "2df24b72",
   "metadata": {},
   "outputs": [],
   "source": [
    "pip install tk"
   ]
  },
  {
   "cell_type": "code",
   "execution_count": 2,
   "id": "6819fd52",
   "metadata": {},
   "outputs": [
    {
     "name": "stdout",
     "output_type": "stream",
     "text": [
      "Note: you may need to restart the kernel to use updated packages.\n"
     ]
    },
    {
     "name": "stderr",
     "output_type": "stream",
     "text": [
      "ERROR: Could not find a version that satisfies the requirement tkinter (from versions: none)\n",
      "ERROR: No matching distribution found for tkinter\n"
     ]
    }
   ],
   "source": [
    "pip install tkinter tkcalendar"
   ]
  },
  {
   "cell_type": "code",
   "execution_count": 3,
   "id": "57bad030",
   "metadata": {},
   "outputs": [
    {
     "name": "stdout",
     "output_type": "stream",
     "text": [
      "Requirement already satisfied: tkcalendar in c:\\users\\admin\\anaconda3\\anaconda\\anaco\\lib\\site-packages (1.6.1)\n",
      "Requirement already satisfied: babel in c:\\users\\admin\\anaconda3\\anaconda\\anaco\\lib\\site-packages (from tkcalendar) (2.11.0)\n",
      "Requirement already satisfied: pytz>=2015.7 in c:\\users\\admin\\anaconda3\\anaconda\\anaco\\lib\\site-packages (from babel->tkcalendar) (2023.3.post1)\n",
      "Note: you may need to restart the kernel to use updated packages.\n"
     ]
    }
   ],
   "source": [
    "pip install tkcalendar"
   ]
  },
  {
   "cell_type": "code",
   "execution_count": 4,
   "id": "52d315da",
   "metadata": {},
   "outputs": [],
   "source": [
    "import tkinter as tk\n",
    "from tkcalendar import Calendar"
   ]
  },
  {
   "cell_type": "code",
   "execution_count": 5,
   "id": "97769fcb",
   "metadata": {},
   "outputs": [
    {
     "data": {
      "text/plain": [
       "''"
      ]
     },
     "execution_count": 5,
     "metadata": {},
     "output_type": "execute_result"
    }
   ],
   "source": [
    "root = tk.Tk()\n",
    "root.title(\"Calendar App\")\n",
    "root.geometry(\"800x800\")\n"
   ]
  },
  {
   "cell_type": "code",
   "execution_count": 6,
   "id": "071c4b9a",
   "metadata": {},
   "outputs": [],
   "source": [
    "cal = Calendar(root, selectmode=\"day\", date_pattern=\"yyyy-mm-dd\")\n",
    "cal.pack(pady=20)"
   ]
  },
  {
   "cell_type": "code",
   "execution_count": 7,
   "id": "0fd3436e",
   "metadata": {},
   "outputs": [],
   "source": [
    "selected_date = tk.Label(root, text=\"\")\n",
    "selected_date.pack(pady=40)"
   ]
  },
  {
   "cell_type": "code",
   "execution_count": 8,
   "id": "1f9688ae",
   "metadata": {},
   "outputs": [
    {
     "data": {
      "text/plain": [
       "'2480854154432<lambda>'"
      ]
     },
     "execution_count": 8,
     "metadata": {},
     "output_type": "execute_result"
    }
   ],
   "source": [
    "def update_selected_date():\n",
    "    selected_date.config(text=\"Selected Date: \" + cal.get_date())\n",
    "\n",
    "cal.bind(\"<<CalendarSelected>>\", lambda event: update_selected_date())"
   ]
  },
  {
   "cell_type": "code",
   "execution_count": null,
   "id": "c8427034",
   "metadata": {},
   "outputs": [],
   "source": [
    "root.mainloop()"
   ]
  },
  {
   "cell_type": "code",
   "execution_count": null,
   "id": "3335c052",
   "metadata": {},
   "outputs": [],
   "source": [
    "import tkinter as tk\n",
    "from tkcalendar import Calendar\n",
    "\n",
    "def update_selected_date():\n",
    "    selected_date.config(text=\"Selected Date: \" + cal.get_date())\n",
    "\n",
    "root = tk.Tk()\n",
    "root.title(\"Calendar App\")\n",
    "root.geometry(\"800x800\")\n",
    "\n",
    "cal = Calendar(root, selectmode=\"day\", date_pattern=\"yyyy-mm-dd\")\n",
    "cal.pack(pady=20)\n",
    "\n",
    "selected_date = tk.Label(root, text=\"\")\n",
    "selected_date.pack(pady=10)\n",
    "\n",
    "cal.bind(\"<<CalendarSelected>>\", lambda event: update_selected_date())\n"
   ]
  },
  {
   "cell_type": "code",
   "execution_count": null,
   "id": "c03ac245",
   "metadata": {},
   "outputs": [],
   "source": [
    "root.mainloop()"
   ]
  },
  {
   "cell_type": "code",
   "execution_count": null,
   "id": "1ca0c81e",
   "metadata": {},
   "outputs": [],
   "source": []
  }
 ],
 "metadata": {
  "kernelspec": {
   "display_name": "Python 3 (ipykernel)",
   "language": "python",
   "name": "python3"
  },
  "language_info": {
   "codemirror_mode": {
    "name": "ipython",
    "version": 3
   },
   "file_extension": ".py",
   "mimetype": "text/x-python",
   "name": "python",
   "nbconvert_exporter": "python",
   "pygments_lexer": "ipython3",
   "version": "3.11.5"
  }
 },
 "nbformat": 4,
 "nbformat_minor": 5
}
